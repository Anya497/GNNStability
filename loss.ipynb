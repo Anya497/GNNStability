{
 "cells": [
  {
   "cell_type": "code",
   "execution_count": 18,
   "metadata": {},
   "outputs": [],
   "source": [
    "from torch_geometric.data import Data\n",
    "import torch\n",
    "import numpy as np\n",
    "\n",
    "# batch (Nbatch, Nfeatrs), randomFriend of the shape (Nbatch, Nfeatrs)\n",
    "# randomEnemies of the shape (Nenem, Nbatch, Nfeatrs)\n",
    "def loss_fn(batchX, randomFriend, randomEnemies, Q=1):\n",
    "  fst = -torch.log(torch.sigmoid(torch.sum(batchX*randomFriend, dim=1)))\n",
    "  snd = -Q*torch.mean(torch.log(torch.sigmoid(-torch.sum(randomEnemies * batchX,  dim=2))), dim=0)\n",
    "  return torch.mean(fst+snd)\n",
    "\n",
    "def _test_loss_fn(batchX, randomFriend, randomEnemies):\n",
    "  fst = -torch.log(torch.sigmoid(torch.sum(batchX*randomFriend, dim=1))) # it is ok\n",
    "  snd = []\n",
    "  for i in range(randomEnemies.shape[0]):\n",
    "    snd.append(-torch.log(torch.sigmoid(-torch.sum(batchX*randomEnemies[i], dim=1))))\n",
    "  snd = torch.mean(torch.stack(snd), dim=0)\n",
    "  return torch.mean(fst+snd)"
   ]
  },
  {
   "cell_type": "code",
   "execution_count": 20,
   "metadata": {},
   "outputs": [
    {
     "data": {
      "text/plain": [
       "True"
      ]
     },
     "execution_count": 20,
     "metadata": {},
     "output_type": "execute_result"
    }
   ],
   "source": [
    "Nbatch  = 100\n",
    "Nfeatrs = 10\n",
    "Nenem   = 10\n",
    "batch = torch.rand((Nbatch, Nfeatrs))\n",
    "randomFriend = torch.rand((Nbatch, Nfeatrs))\n",
    "randomEnemies = torch.rand((Nenem, Nbatch, Nfeatrs))\n",
    "\n",
    "torch.allclose(_test_loss_fn(batch, randomFriend, randomEnemies), \n",
    "               loss_fn(batch, randomFriend, randomEnemies)\n",
    "               )"
   ]
  },
  {
   "cell_type": "code",
   "execution_count": null,
   "metadata": {},
   "outputs": [],
   "source": [
    "# Nnodes = 100\n",
    "# Nfeatrs = 10\n",
    "# connctns = np.random.choice(Nnodes, size=(2, Nnodes), replace=True)\n",
    "# X = np.random.random((Nnodes, Nfeatrs))\n",
    "# connctns = torch.tensor(connctns)\n",
    "# X = torch.tensor(X)\n",
    "# Data(X, connctns).to_dict()['edge_index']"
   ]
  }
 ],
 "metadata": {
  "kernelspec": {
   "display_name": "Python 3",
   "language": "python",
   "name": "python3"
  },
  "language_info": {
   "codemirror_mode": {
    "name": "ipython",
    "version": 3
   },
   "file_extension": ".py",
   "mimetype": "text/x-python",
   "name": "python",
   "nbconvert_exporter": "python",
   "pygments_lexer": "ipython3",
   "version": "3.10.0"
  }
 },
 "nbformat": 4,
 "nbformat_minor": 2
}
