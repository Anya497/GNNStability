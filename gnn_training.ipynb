{
 "cells": [
  {
   "cell_type": "code",
   "execution_count": 106,
   "id": "db77a320-6617-4b0e-8525-bd15062b3f60",
   "metadata": {},
   "outputs": [],
   "source": [
    "import os.path as osp\n",
    "from tqdm.auto import tqdm\n",
    "import numpy as np\n",
    "import torch\n",
    "from torch_geometric.transforms import RandomLinkSplit\n",
    "from pathlib import Path\n",
    "import os\n",
    "\n",
    "from torch_geometric.datasets import Planetoid\n",
    "from torch_geometric.nn import GraphSAGE"
   ]
  },
  {
   "cell_type": "code",
   "execution_count": 107,
   "id": "039153f5-9c4d-4e2d-96b1-6550dbe3fc6f",
   "metadata": {},
   "outputs": [],
   "source": [
    "MODELS_PATH = Path(\"./models\")"
   ]
  },
  {
   "cell_type": "code",
   "execution_count": 108,
   "id": "629df5a2-482d-4ba2-bf1a-64276ac829b4",
   "metadata": {},
   "outputs": [],
   "source": [
    "if not MODELS_PATH.exists():\n",
    "    os.makedirs(MODELS_PATH)"
   ]
  },
  {
   "cell_type": "code",
   "execution_count": 53,
   "id": "20da0e42-8971-4695-add4-d66c6cf647f5",
   "metadata": {},
   "outputs": [],
   "source": [
    "dataset = Planetoid(root=\"./data/\", name=\"Cora\", split=\"public\")\n",
    "transform = RandomLinkSplit(num_val=0.1, num_test=0.20, split_labels=True)\n",
    "train_data, val_data, test_data = transform(dataset[0])\n",
    "data = dataset[0]"
   ]
  },
  {
   "cell_type": "code",
   "execution_count": 76,
   "id": "e82b96e9-aaf1-4e12-8abd-e58312aa533b",
   "metadata": {},
   "outputs": [],
   "source": [
    "class SAGEConvModel(torch.nn.Module):\n",
    "    def __init__(self, hidden_channels=64, num_layers=2, out_channels=dataset.num_classes):\n",
    "        super(SAGEConvModel, self).__init__()\n",
    "        self.sage = GraphSAGE(dataset.num_features, hidden_channels, num_layers, out_channels)\n",
    "\n",
    "    def forward(self, x, edge_index):\n",
    "        x = self.sage(x, edge_index)\n",
    "        return torch.softmax(x, dim=1)"
   ]
  },
  {
   "cell_type": "code",
   "execution_count": 99,
   "id": "c9f2e5b4-e016-4756-9ec6-34c6c3859f8f",
   "metadata": {},
   "outputs": [],
   "source": [
    "criterion = torch.nn.CrossEntropyLoss()\n",
    "\n",
    "epochs = 200\n",
    "n_models = 50\n",
    "\n",
    "models_result = []\n",
    "\n",
    "def train():\n",
    "    for i in range(n_models):\n",
    "        model = SAGEConvModel()\n",
    "        optimizer = torch.optim.Adam(model.parameters(), lr=0.001)\n",
    "        train_loss = []\n",
    "        for epoch in range(epochs):\n",
    "            model.train()\n",
    "            out = model(train_data.x, train_data.edge_index)\n",
    "            loss = criterion(out, train_data.y)            \n",
    "            \n",
    "            loss.backward()\n",
    "            optimizer.step()\n",
    "            \n",
    "            train_loss.append(loss.item())\n",
    "        print(f'Model {i}: epoch: {epoch + 1:03d}, loss: {np.mean(train_loss)}')\n",
    "\n",
    "        models_result.append(model(test_data.x, test_data.edge_index), dim=1))\n",
    "        torch.save(model.state_dict(), f'./models/{i+1}')\n",
    "\n",
    "\n",
    "def eval_stability():\n",
    "    dis_sum = 0\n",
    "    for i in range(n_models):\n",
    "        for j in range(i, n_models):\n",
    "            dis_sum += torch.sum(torch.abs(models_result[i] - models_result[j]))\n",
    "    return dis_sum / (n_models * (n_models + 1) / 2)\n",
    "\n",
    "\n",
    "def eval_stability1():\n",
    "    dis_sum = 0\n",
    "    for i in range(n_models):\n",
    "        for j in range(i, n_models):\n",
    "            eq_mask = torch.eq(models_result[i], models_result[j])\n",
    "            dis_sum += torch.sum(eq_mask) / eq_mask.size()[0]\n",
    "    return dis_sum / (n_models * (n_models + 1) / 2)"
   ]
  },
  {
   "cell_type": "code",
   "execution_count": 100,
   "id": "8f04d82d-3c97-478c-b3e6-03a8b4e5542f",
   "metadata": {},
   "outputs": [
    {
     "name": "stdout",
     "output_type": "stream",
     "text": [
      "Model 0: 200, loss: 1.4210438048839569\n",
      "Model 1: 200, loss: 1.4350572943687439\n",
      "Model 2: 200, loss: 1.4065681314468383\n",
      "Model 3: 200, loss: 1.4377384531497954\n",
      "Model 4: 200, loss: 1.4045356917381286\n",
      "Model 5: 200, loss: 1.3982780426740646\n",
      "Model 6: 200, loss: 1.4160704296827316\n",
      "Model 7: 200, loss: 1.4020868039131165\n",
      "Model 8: 200, loss: 1.4070432579517365\n",
      "Model 9: 200, loss: 1.3889498561620712\n",
      "Model 10: 200, loss: 1.4154532074928283\n",
      "Model 11: 200, loss: 1.4106796818971634\n",
      "Model 12: 200, loss: 1.3918729048967362\n",
      "Model 13: 200, loss: 1.409529229402542\n",
      "Model 14: 200, loss: 1.4157434397935866\n",
      "Model 15: 200, loss: 1.4098780786991119\n",
      "Model 16: 200, loss: 1.4237270164489746\n",
      "Model 17: 200, loss: 1.4252563017606734\n",
      "Model 18: 200, loss: 1.426661447286606\n",
      "Model 19: 200, loss: 1.4151845079660417\n",
      "Model 20: 200, loss: 1.407782748937607\n",
      "Model 21: 200, loss: 1.400235372185707\n",
      "Model 22: 200, loss: 1.4013875275850296\n",
      "Model 23: 200, loss: 1.4118175631761551\n",
      "Model 24: 200, loss: 1.414202960729599\n",
      "Model 25: 200, loss: 1.4035820996761321\n",
      "Model 26: 200, loss: 1.416003766655922\n",
      "Model 27: 200, loss: 1.3909983950853348\n",
      "Model 28: 200, loss: 1.4153432494401932\n",
      "Model 29: 200, loss: 1.4015259915590286\n",
      "Model 30: 200, loss: 1.3957022994756698\n",
      "Model 31: 200, loss: 1.4066442155838013\n",
      "Model 32: 200, loss: 1.4106329327821732\n",
      "Model 33: 200, loss: 1.424108682870865\n",
      "Model 34: 200, loss: 1.4123860746622086\n",
      "Model 35: 200, loss: 1.4102502411603928\n",
      "Model 36: 200, loss: 1.4009000205993651\n",
      "Model 37: 200, loss: 1.4042239874601363\n",
      "Model 38: 200, loss: 1.4360214966535567\n",
      "Model 39: 200, loss: 1.4143192595243455\n",
      "Model 40: 200, loss: 1.3835212528705596\n",
      "Model 41: 200, loss: 1.436093009710312\n",
      "Model 42: 200, loss: 1.4370212656259538\n",
      "Model 43: 200, loss: 1.4372740161418915\n",
      "Model 44: 200, loss: 1.3858789336681365\n",
      "Model 45: 200, loss: 1.3915769761800767\n",
      "Model 46: 200, loss: 1.3988679617643356\n",
      "Model 47: 200, loss: 1.4014788162708283\n",
      "Model 48: 200, loss: 1.4079478323459624\n",
      "Model 49: 200, loss: 1.3935470247268678\n",
      "tensor(0.9285)\n"
     ]
    }
   ],
   "source": [
    "train()\n",
    "print(eval_stability())"
   ]
  },
  {
   "cell_type": "code",
   "execution_count": 94,
   "id": "49b236d8-1587-4228-9a32-a864f8af9cb1",
   "metadata": {},
   "outputs": [
    {
     "data": {
      "text/plain": [
       "2708"
      ]
     },
     "execution_count": 94,
     "metadata": {},
     "output_type": "execute_result"
    }
   ],
   "source": [
    "models_result[0].shape[0]"
   ]
  },
  {
   "cell_type": "code",
   "execution_count": null,
   "id": "ab5a78c1-249e-4c03-9431-9bca0121208d",
   "metadata": {},
   "outputs": [],
   "source": []
  }
 ],
 "metadata": {
  "kernelspec": {
   "display_name": "Python 3 (ipykernel)",
   "language": "python",
   "name": "python3"
  },
  "language_info": {
   "codemirror_mode": {
    "name": "ipython",
    "version": 3
   },
   "file_extension": ".py",
   "mimetype": "text/x-python",
   "name": "python",
   "nbconvert_exporter": "python",
   "pygments_lexer": "ipython3",
   "version": "3.9.5"
  }
 },
 "nbformat": 4,
 "nbformat_minor": 5
}
